{
 "cells": [
  {
   "cell_type": "markdown",
   "id": "abc1d8f3-c76a-44eb-8362-0b3b43808316",
   "metadata": {},
   "source": [
    "# Make A Model from Train Data"
   ]
  },
  {
   "cell_type": "markdown",
   "id": "d8b07f31-b3f7-4ac5-8928-9edbcfe86871",
   "metadata": {},
   "source": [
    "## Import, Clean, Drop Duplicate from Train Data"
   ]
  },
  {
   "cell_type": "code",
   "execution_count": 1,
   "id": "3db517c4-a272-4fd7-8452-f0444a95762e",
   "metadata": {},
   "outputs": [],
   "source": [
    "import pandas as pd\n",
    "import re"
   ]
  },
  {
   "cell_type": "code",
   "execution_count": 2,
   "id": "71058335-ed42-4e0d-89ec-b2bd45800911",
   "metadata": {},
   "outputs": [
    {
     "data": {
      "text/html": [
       "<div>\n",
       "<style scoped>\n",
       "    .dataframe tbody tr th:only-of-type {\n",
       "        vertical-align: middle;\n",
       "    }\n",
       "\n",
       "    .dataframe tbody tr th {\n",
       "        vertical-align: top;\n",
       "    }\n",
       "\n",
       "    .dataframe thead th {\n",
       "        text-align: right;\n",
       "    }\n",
       "</style>\n",
       "<table border=\"1\" class=\"dataframe\">\n",
       "  <thead>\n",
       "    <tr style=\"text-align: right;\">\n",
       "      <th></th>\n",
       "      <th>text</th>\n",
       "      <th>label</th>\n",
       "    </tr>\n",
       "  </thead>\n",
       "  <tbody>\n",
       "    <tr>\n",
       "      <th>0</th>\n",
       "      <td>warung ini dimiliki oleh pengusaha pabrik tahu...</td>\n",
       "      <td>positive</td>\n",
       "    </tr>\n",
       "    <tr>\n",
       "      <th>1</th>\n",
       "      <td>mohon ulama lurus dan k212 mmbri hujjah partai...</td>\n",
       "      <td>neutral</td>\n",
       "    </tr>\n",
       "    <tr>\n",
       "      <th>2</th>\n",
       "      <td>lokasi strategis di jalan sumatera bandung . t...</td>\n",
       "      <td>positive</td>\n",
       "    </tr>\n",
       "    <tr>\n",
       "      <th>3</th>\n",
       "      <td>betapa bahagia nya diri ini saat unboxing pake...</td>\n",
       "      <td>positive</td>\n",
       "    </tr>\n",
       "    <tr>\n",
       "      <th>4</th>\n",
       "      <td>duh . jadi mahasiswa jangan sombong dong . kas...</td>\n",
       "      <td>negative</td>\n",
       "    </tr>\n",
       "  </tbody>\n",
       "</table>\n",
       "</div>"
      ],
      "text/plain": [
       "                                                text     label\n",
       "0  warung ini dimiliki oleh pengusaha pabrik tahu...  positive\n",
       "1  mohon ulama lurus dan k212 mmbri hujjah partai...   neutral\n",
       "2  lokasi strategis di jalan sumatera bandung . t...  positive\n",
       "3  betapa bahagia nya diri ini saat unboxing pake...  positive\n",
       "4  duh . jadi mahasiswa jangan sombong dong . kas...  negative"
      ]
     },
     "execution_count": 2,
     "metadata": {},
     "output_type": "execute_result"
    }
   ],
   "source": [
    "df_train = pd.read_table(r\"E:\\BINAR\\Platinum-Challenge\\Dataset\\train_preprocess.tsv.txt\", sep='\\t', header=None)\n",
    "df_train = df_train.rename(columns={0: 'text', 1: 'label'})\n",
    "df_train.head()"
   ]
  },
  {
   "cell_type": "code",
   "execution_count": 4,
   "id": "ce1df0b4-3a10-4ca4-a886-98648cfcbdc6",
   "metadata": {},
   "outputs": [
    {
     "data": {
      "text/plain": [
       "(11000, 2)"
      ]
     },
     "execution_count": 4,
     "metadata": {},
     "output_type": "execute_result"
    }
   ],
   "source": [
    "df_train.shape"
   ]
  },
  {
   "cell_type": "code",
   "execution_count": 5,
   "id": "51fb0d3c-d66a-4e41-b35c-619f30175afe",
   "metadata": {},
   "outputs": [
    {
     "name": "stdout",
     "output_type": "stream",
     "text": [
      "<class 'pandas.core.frame.DataFrame'>\n",
      "RangeIndex: 11000 entries, 0 to 10999\n",
      "Data columns (total 2 columns):\n",
      " #   Column  Non-Null Count  Dtype \n",
      "---  ------  --------------  ----- \n",
      " 0   text    11000 non-null  object\n",
      " 1   label   11000 non-null  object\n",
      "dtypes: object(2)\n",
      "memory usage: 172.0+ KB\n"
     ]
    }
   ],
   "source": [
    "df_train.info()"
   ]
  },
  {
   "cell_type": "markdown",
   "id": "098b1df0-b2da-4b2f-bac8-67aa6e21ed24",
   "metadata": {},
   "source": [
    "## Cek duplikat"
   ]
  },
  {
   "cell_type": "code",
   "execution_count": 3,
   "id": "671a5e68-c18b-485a-986e-1d1813bbc042",
   "metadata": {},
   "outputs": [
    {
     "data": {
      "text/plain": [
       "67"
      ]
     },
     "execution_count": 3,
     "metadata": {},
     "output_type": "execute_result"
    }
   ],
   "source": [
    "#duplicate check\n",
    "df_train.duplicated().sum()"
   ]
  },
  {
   "cell_type": "code",
   "execution_count": 3,
   "id": "b4cdd838-9a4d-41a5-9bc9-8c576492be28",
   "metadata": {},
   "outputs": [],
   "source": [
    "#drop duplicate\n",
    "df_train = df_train.drop_duplicates()"
   ]
  },
  {
   "cell_type": "code",
   "execution_count": 4,
   "id": "834cf994-a7ad-44fc-9e7b-121902d5a67c",
   "metadata": {},
   "outputs": [],
   "source": [
    "#reindex\n",
    "df_train = df_train.reset_index(drop=True)"
   ]
  },
  {
   "cell_type": "code",
   "execution_count": 6,
   "id": "00b6c074-022b-4998-a2ee-0669962e5315",
   "metadata": {},
   "outputs": [
    {
     "data": {
      "text/plain": [
       "0"
      ]
     },
     "execution_count": 6,
     "metadata": {},
     "output_type": "execute_result"
    }
   ],
   "source": [
    "#duplicate check\n",
    "df_train.duplicated().sum()"
   ]
  },
  {
   "cell_type": "code",
   "execution_count": 10,
   "id": "1b3dd804-5420-4d27-b530-c491df87635d",
   "metadata": {},
   "outputs": [
    {
     "name": "stdout",
     "output_type": "stream",
     "text": [
      "<class 'pandas.core.frame.DataFrame'>\n",
      "RangeIndex: 10933 entries, 0 to 10932\n",
      "Data columns (total 2 columns):\n",
      " #   Column  Non-Null Count  Dtype \n",
      "---  ------  --------------  ----- \n",
      " 0   text    10933 non-null  object\n",
      " 1   label   10933 non-null  object\n",
      "dtypes: object(2)\n",
      "memory usage: 171.0+ KB\n"
     ]
    }
   ],
   "source": [
    "df_train.info()"
   ]
  },
  {
   "cell_type": "code",
   "execution_count": 11,
   "id": "d6cf3824-1793-49b2-a6b0-eea8dbdb6ea7",
   "metadata": {},
   "outputs": [
    {
     "data": {
      "text/plain": [
       "(10933, 2)"
      ]
     },
     "execution_count": 11,
     "metadata": {},
     "output_type": "execute_result"
    }
   ],
   "source": [
    "df_train.shape"
   ]
  },
  {
   "cell_type": "markdown",
   "id": "5577dbdd-fb0c-450e-96c4-36f4b10b9dd8",
   "metadata": {},
   "source": [
    "## Cleaning Text"
   ]
  },
  {
   "cell_type": "code",
   "execution_count": 5,
   "id": "21731466-6875-4ff0-a9ff-06bd9c5f5954",
   "metadata": {},
   "outputs": [
    {
     "name": "stderr",
     "output_type": "stream",
     "text": [
      "[nltk_data] Downloading package stopwords to\n",
      "[nltk_data]     C:\\Users\\ASUS\\AppData\\Roaming\\nltk_data...\n",
      "[nltk_data]   Package stopwords is already up-to-date!\n"
     ]
    }
   ],
   "source": [
    "import nltk\n",
    "nltk.download('stopwords')\n",
    "from nltk.corpus import stopwords as stopword_scratch"
   ]
  },
  {
   "cell_type": "code",
   "execution_count": 6,
   "id": "8df4ecc0-c5af-484f-922f-fb24d09e2ed2",
   "metadata": {},
   "outputs": [],
   "source": [
    "#Fucntion to Clean tweet data\n",
    "def Clean(text):\n",
    "    #lowercase for every word\n",
    "    text = text.lower()\n",
    "\n",
    "    #Clean Pattern\n",
    "    #remove USER\n",
    "    text = re.sub(r'user', ' ', text)\n",
    "    #remove 'RT'\n",
    "    text = re.sub(r'rt', ' ', text)\n",
    "    #remove 'URL'\n",
    "    text = re.sub(r'url', ' ', text)\n",
    "    #remove HTTPS\n",
    "    text = re.sub(r'https', ' ', text)\n",
    "    #remove HTTP\n",
    "    text = re.sub(r'http', ' ', text)\n",
    "    #remove &amp\n",
    "    text = re.sub(r'&amp', ' ', text)\n",
    "\n",
    "    #Clean_Unnecessary_Character\n",
    "    #remove \\n or every word afte '\\' with space\n",
    "    text = re.sub(r'\\\\+[a-zA-Z0-9]+', ' ', text)\n",
    "    #remove text emoji\n",
    "    text = re.sub(r'[^a-zA-Z0-9\\s]{2,}|:[a-zA-Z0-9]{0,}', ' ', text)\n",
    "    #remove all unnecessary character \n",
    "    text = re.sub(r'[^0-9a-zA-Z\\s]+', ' ', text)\n",
    "    #remove all number\n",
    "    text = re.sub(r'[0-9]+', ' ', text)\n",
    "    #remove extra space\n",
    "    text = re.sub(r'  +', ' ', text)\n",
    "    #remove space at the start or the end of string\n",
    "    text = re.sub(r'^ +| +$', '', text)\n",
    "    \n",
    "    return text\n",
    "\n",
    "#tokenization Function\n",
    "def tokenization(text):\n",
    "    text = re.split('\\W+', text)\n",
    "    return text\n",
    "\n",
    "#import file new_kamusalay.csv\n",
    "kamus_alay = pd.read_csv(r\"E:\\BINAR\\Binar-Gold-Challenge\\Dataset\\new_kamusalay.csv\", encoding = 'ISO-8859-1', header = None)\n",
    "kamus_alay = kamus_alay.rename(columns={0: 'kata alay', 1: 'arti kata'})\n",
    "\n",
    "#Create dictionary from kamus_alay\n",
    "kamus_alay_dict = dict(zip(kamus_alay['kata alay'], kamus_alay['arti kata']))\n",
    "\n",
    "#normalization function to convert every word tha contain 'kata alay' to 'arti kata'\n",
    "def normalization(text):\n",
    "    newlist = []\n",
    "    for word in text:\n",
    "        if word in kamus_alay_dict:\n",
    "            text = kamus_alay_dict[word]\n",
    "            newlist.append(text)\n",
    "        else:\n",
    "            text = word\n",
    "            newlist.append(text)\n",
    "    return newlist\n",
    "\n",
    "#remove stopwords\n",
    "\n",
    "#list stopword from NLTK\n",
    "list_stopwords = stopword_scratch.words('indonesian')\n",
    "list_stopwords_en = stopword_scratch.words('english')\n",
    "list_stopwords.extend(list_stopwords_en)\n",
    "list_stopwords.extend(['ya', 'yg', 'ga', 'yuk', 'dah'])\n",
    "stopword_list = list_stopwords\n",
    "\n",
    "#stopword list\n",
    "f = open(r\"E:\\BINAR\\Binar-Gold-Challenge\\Dataset\\tala-stopwords-indonesia.txt\")\n",
    "stopword_list = []\n",
    "for line in f:\n",
    "    stripped_line = line.strip()\n",
    "    line_list = stripped_line.split()\n",
    "    stopword_list.append(line_list[0])\n",
    "f.close()\n",
    "\n",
    "stopword_list.extend([\"yg\", \"dg\", \"rt\", \"dgn\", \"ny\", \"d\", 'klo',\n",
    "                       'kalo', 'amp', 'biar', 'bikin', 'bilang',\n",
    "                       'gak', 'ga', 'krn', 'nya', 'nih', 'sih',\n",
    "                       'si', 'tau', 'tdk', 'tuh', 'utk', 'ya',\n",
    "                       'jd', 'jgn', 'sdh', 'aja', 'n', 't',\n",
    "                       'nyg', 'hehe', 'pen', 'u', 'nan', 'loh', 'rt',\n",
    "                       'gue', 'yah', 'kayak'])\n",
    "\n",
    "stopword_list = set(stopword_list)\n",
    "\n",
    "#remove stopword function\n",
    "def remove_stopwords(text):\n",
    "    text = [word for word in text if word not in stopword_list]\n",
    "    return text\n",
    "\n",
    "#function to run all the function\n",
    "def clean_data(text):\n",
    "    text = Clean(text)\n",
    "    text = tokenization(text)\n",
    "    text = normalization(text)\n",
    "    text = remove_stopwords(text)\n",
    "\n",
    "    return text"
   ]
  },
  {
   "cell_type": "code",
   "execution_count": 7,
   "id": "65f2bf28-ca8e-4b25-a2f6-e2bc5f1094b5",
   "metadata": {},
   "outputs": [
    {
     "data": {
      "text/html": [
       "<div>\n",
       "<style scoped>\n",
       "    .dataframe tbody tr th:only-of-type {\n",
       "        vertical-align: middle;\n",
       "    }\n",
       "\n",
       "    .dataframe tbody tr th {\n",
       "        vertical-align: top;\n",
       "    }\n",
       "\n",
       "    .dataframe thead th {\n",
       "        text-align: right;\n",
       "    }\n",
       "</style>\n",
       "<table border=\"1\" class=\"dataframe\">\n",
       "  <thead>\n",
       "    <tr style=\"text-align: right;\">\n",
       "      <th></th>\n",
       "      <th>text</th>\n",
       "      <th>label</th>\n",
       "      <th>text_clean</th>\n",
       "    </tr>\n",
       "  </thead>\n",
       "  <tbody>\n",
       "    <tr>\n",
       "      <th>0</th>\n",
       "      <td>warung ini dimiliki oleh pengusaha pabrik tahu...</td>\n",
       "      <td>positive</td>\n",
       "      <td>warung dimiliki pengusaha pabrik puluhan terke...</td>\n",
       "    </tr>\n",
       "    <tr>\n",
       "      <th>1</th>\n",
       "      <td>mohon ulama lurus dan k212 mmbri hujjah partai...</td>\n",
       "      <td>neutral</td>\n",
       "      <td>mohon ulama lurus k mmbri hujjah ai diwlh suar...</td>\n",
       "    </tr>\n",
       "    <tr>\n",
       "      <th>2</th>\n",
       "      <td>lokasi strategis di jalan sumatera bandung . t...</td>\n",
       "      <td>positive</td>\n",
       "      <td>lokasi strategis jalan sumatra bandung nyaman ...</td>\n",
       "    </tr>\n",
       "    <tr>\n",
       "      <th>3</th>\n",
       "      <td>betapa bahagia nya diri ini saat unboxing pake...</td>\n",
       "      <td>positive</td>\n",
       "      <td>betapa bahagia unboxing paket barang bagus men...</td>\n",
       "    </tr>\n",
       "    <tr>\n",
       "      <th>4</th>\n",
       "      <td>duh . jadi mahasiswa jangan sombong dong . kas...</td>\n",
       "      <td>negative</td>\n",
       "      <td>aduh mahasiswa sombong kasih kakak kuning bela...</td>\n",
       "    </tr>\n",
       "  </tbody>\n",
       "</table>\n",
       "</div>"
      ],
      "text/plain": [
       "                                                text     label  \\\n",
       "0  warung ini dimiliki oleh pengusaha pabrik tahu...  positive   \n",
       "1  mohon ulama lurus dan k212 mmbri hujjah partai...   neutral   \n",
       "2  lokasi strategis di jalan sumatera bandung . t...  positive   \n",
       "3  betapa bahagia nya diri ini saat unboxing pake...  positive   \n",
       "4  duh . jadi mahasiswa jangan sombong dong . kas...  negative   \n",
       "\n",
       "                                          text_clean  \n",
       "0  warung dimiliki pengusaha pabrik puluhan terke...  \n",
       "1  mohon ulama lurus k mmbri hujjah ai diwlh suar...  \n",
       "2  lokasi strategis jalan sumatra bandung nyaman ...  \n",
       "3  betapa bahagia unboxing paket barang bagus men...  \n",
       "4  aduh mahasiswa sombong kasih kakak kuning bela...  "
      ]
     },
     "execution_count": 7,
     "metadata": {},
     "output_type": "execute_result"
    }
   ],
   "source": [
    "df_train['text_clean'] = df_train.text.apply(lambda x: ' '.join(map(str, clean_data(x))))\n",
    "df_train.head()"
   ]
  },
  {
   "cell_type": "code",
   "execution_count": 15,
   "id": "c3fd1777-0812-4f9e-8364-5db50564c2dc",
   "metadata": {},
   "outputs": [
    {
     "name": "stdout",
     "output_type": "stream",
     "text": [
      "<class 'pandas.core.frame.DataFrame'>\n",
      "RangeIndex: 10933 entries, 0 to 10932\n",
      "Data columns (total 3 columns):\n",
      " #   Column      Non-Null Count  Dtype \n",
      "---  ------      --------------  ----- \n",
      " 0   text        10933 non-null  object\n",
      " 1   label       10933 non-null  object\n",
      " 2   text_clean  10933 non-null  object\n",
      "dtypes: object(3)\n",
      "memory usage: 256.4+ KB\n"
     ]
    }
   ],
   "source": [
    "df_train.info()"
   ]
  },
  {
   "cell_type": "markdown",
   "id": "cb316693-eefa-4fd9-94fd-fb12f165eadc",
   "metadata": {},
   "source": [
    "## Split Data"
   ]
  },
  {
   "cell_type": "code",
   "execution_count": 8,
   "id": "c290e1a6-3f7c-4ac5-9350-98cbdd67f7f1",
   "metadata": {},
   "outputs": [],
   "source": [
    "from sklearn.model_selection import train_test_split"
   ]
  },
  {
   "cell_type": "code",
   "execution_count": 9,
   "id": "dd4fb3ec-0060-4ab3-9e2b-b93c5e3104f3",
   "metadata": {},
   "outputs": [
    {
     "data": {
      "text/plain": [
       "0        warung dimiliki pengusaha pabrik puluhan terke...\n",
       "1        mohon ulama lurus k mmbri hujjah ai diwlh suar...\n",
       "2        lokasi strategis jalan sumatra bandung nyaman ...\n",
       "3        betapa bahagia unboxing paket barang bagus men...\n",
       "4        aduh mahasiswa sombong kasih kakak kuning bela...\n",
       "                               ...                        \n",
       "10928    f demokrat dorong upaya kemandirian energi nas...\n",
       "10929                                                bosan\n",
       "10930    enak masakan kepiting menyenangkan memilih kep...\n",
       "10931            pagi pagi tol pasteur macet parah jengkel\n",
       "10932    belanja yogyakarta riau junction pe kali lihat...\n",
       "Name: text_clean, Length: 10933, dtype: object"
      ]
     },
     "execution_count": 9,
     "metadata": {},
     "output_type": "execute_result"
    }
   ],
   "source": [
    "Data_text = df_train.text_clean\n",
    "Data_text"
   ]
  },
  {
   "cell_type": "code",
   "execution_count": 10,
   "id": "5669e08a-3dba-4e7e-8cd5-8ff5c442e055",
   "metadata": {},
   "outputs": [
    {
     "data": {
      "text/plain": [
       "0        positive\n",
       "1         neutral\n",
       "2        positive\n",
       "3        positive\n",
       "4        negative\n",
       "           ...   \n",
       "10928     neutral\n",
       "10929    positive\n",
       "10930    positive\n",
       "10931    negative\n",
       "10932    positive\n",
       "Name: label, Length: 10933, dtype: object"
      ]
     },
     "execution_count": 10,
     "metadata": {},
     "output_type": "execute_result"
    }
   ],
   "source": [
    "classes = df_train.label\n",
    "classes"
   ]
  },
  {
   "cell_type": "markdown",
   "id": "05d49564-ac6c-48b7-a343-0871143648b7",
   "metadata": {},
   "source": [
    "### Full to 80% Train Data & 20% Test Data"
   ]
  },
  {
   "cell_type": "code",
   "execution_count": 11,
   "id": "2e9f6539-5541-4644-b304-ab126b956337",
   "metadata": {},
   "outputs": [],
   "source": [
    "X_train_text, X_test_text, y_train_label, y_test_label = train_test_split(Data_text, classes, test_size=0.2)"
   ]
  },
  {
   "cell_type": "code",
   "execution_count": 12,
   "id": "7ca510bc-e4a9-4675-8769-dc794b49fb62",
   "metadata": {},
   "outputs": [
    {
     "name": "stdout",
     "output_type": "stream",
     "text": [
      "Panjang X_train:  8746\n",
      "Panjang y_train:  8746\n",
      "Panjang X_test:  2187\n",
      "Panjang y_test:  2187\n"
     ]
    }
   ],
   "source": [
    "print('Panjang X_train: ', X_train_text.shape[0])\n",
    "print('Panjang y_train: ', y_train_label.shape[0])\n",
    "print('Panjang X_test: ', X_test_text.shape[0])\n",
    "print('Panjang y_test: ', y_test_label.shape[0])"
   ]
  },
  {
   "cell_type": "code",
   "execution_count": null,
   "id": "f16e1dd7-6815-4331-aee6-ceece5701cfa",
   "metadata": {},
   "outputs": [],
   "source": [
    "pickle.dump(X_train_text, open(\"X_train_text.p\", \"wb\"))"
   ]
  },
  {
   "cell_type": "code",
   "execution_count": null,
   "id": "fb71ec2f-1597-4eef-ba72-102b2729c709",
   "metadata": {},
   "outputs": [],
   "source": [
    "pickle.dump(y_train_label, open(\"y_train_label.p\", \"wb\"))"
   ]
  },
  {
   "cell_type": "code",
   "execution_count": null,
   "id": "23d04d49-9056-4814-8369-6d8a6734fae6",
   "metadata": {},
   "outputs": [],
   "source": [
    "pickle.dump(X_test_text, open(\"X_test_text.p\", \"wb\"))"
   ]
  },
  {
   "cell_type": "code",
   "execution_count": null,
   "id": "bbdaa38e-f319-4125-a2b1-2d93357b21bf",
   "metadata": {},
   "outputs": [],
   "source": [
    "pickle.dump(y_test_label, open(\"y_test_label.p\", \"wb\"))"
   ]
  },
  {
   "cell_type": "markdown",
   "id": "4dabf319-34ad-4f38-a29b-133c2af67ba5",
   "metadata": {
    "jp-MarkdownHeadingCollapsed": true
   },
   "source": [
    "### Train Data"
   ]
  },
  {
   "cell_type": "code",
   "execution_count": 15,
   "id": "896b0d28-824a-4daf-a790-1866f68fe126",
   "metadata": {},
   "outputs": [
    {
     "data": {
      "text/plain": [
       "(5112,)"
      ]
     },
     "execution_count": 15,
     "metadata": {},
     "output_type": "execute_result"
    }
   ],
   "source": [
    "y_train[y_train == 'positive'].shape"
   ]
  },
  {
   "cell_type": "code",
   "execution_count": 16,
   "id": "ea0b9234-8978-436e-bd4c-95af58d77411",
   "metadata": {},
   "outputs": [
    {
     "data": {
      "text/plain": [
       "(2726,)"
      ]
     },
     "execution_count": 16,
     "metadata": {},
     "output_type": "execute_result"
    }
   ],
   "source": [
    "y_train[y_train == 'negative'].shape"
   ]
  },
  {
   "cell_type": "code",
   "execution_count": 17,
   "id": "beb3be18-2a77-4aa8-8dee-324dfe8c9dd1",
   "metadata": {},
   "outputs": [
    {
     "data": {
      "text/plain": [
       "(908,)"
      ]
     },
     "execution_count": 17,
     "metadata": {},
     "output_type": "execute_result"
    }
   ],
   "source": [
    "y_train[y_train == 'neutral'].shape"
   ]
  },
  {
   "cell_type": "markdown",
   "id": "61781632-8459-4ab3-8c47-1cf8293a96b9",
   "metadata": {
    "jp-MarkdownHeadingCollapsed": true
   },
   "source": [
    "### Test Data"
   ]
  },
  {
   "cell_type": "code",
   "execution_count": 18,
   "id": "4523ce68-5c3e-4102-a6ee-fd7e354f332e",
   "metadata": {},
   "outputs": [
    {
     "data": {
      "text/plain": [
       "(1271,)"
      ]
     },
     "execution_count": 18,
     "metadata": {},
     "output_type": "execute_result"
    }
   ],
   "source": [
    "y_test[y_test == 'positive'].shape"
   ]
  },
  {
   "cell_type": "code",
   "execution_count": 19,
   "id": "cb6d24dc-43fb-42c9-843e-46790956f73c",
   "metadata": {},
   "outputs": [
    {
     "data": {
      "text/plain": [
       "(686,)"
      ]
     },
     "execution_count": 19,
     "metadata": {},
     "output_type": "execute_result"
    }
   ],
   "source": [
    "y_test[y_test == 'negative'].shape"
   ]
  },
  {
   "cell_type": "code",
   "execution_count": 20,
   "id": "cf840abf-6896-41d9-a2a2-5575fc046015",
   "metadata": {},
   "outputs": [
    {
     "data": {
      "text/plain": [
       "(230,)"
      ]
     },
     "execution_count": 20,
     "metadata": {},
     "output_type": "execute_result"
    }
   ],
   "source": [
    "y_test[y_test == 'neutral'].shape"
   ]
  },
  {
   "cell_type": "markdown",
   "id": "b2f04332-ea06-4885-b587-921ef3fd2b14",
   "metadata": {},
   "source": [
    "## Feature Extraction using TF-IDF"
   ]
  },
  {
   "cell_type": "code",
   "execution_count": 13,
   "id": "7a64bf13-3b4f-4e2c-b98c-bec5212c623a",
   "metadata": {},
   "outputs": [
    {
     "data": {
      "text/plain": [
       "['resto suasana nyaman layanan tersedia menu masakan seafood berbahan dasar kepiting udang kerang bawal kerapu udang goreng mentega enak mantap udang asam manis manis segar kepiting saus singapura mantap masakan enak mantap',\n",
       " 'salah kedai panggang lapo bandung menyajikan saksang panggang rendang babi nasi goreng babi kangkung kriuk salah favorit',\n",
       " 'ozon dasar anjing mendidik enak mendidik anjing pintar berkelit mencuri uang rakyat pura pura suara rekaman dasar goblok',\n",
       " 'beli rumah berduit dasar investment embah duit sewakan harga mahal jual untung angin teruskan menindas golongan berkemampuan',\n",
       " 'bangsa mars ribut khitan muslim susah bangkit umat dungu zahra joe']"
      ]
     },
     "execution_count": 13,
     "metadata": {},
     "output_type": "execute_result"
    }
   ],
   "source": [
    "#Convert X_train_text into list form\n",
    "Train_preprocessed = X_train_text.tolist()\n",
    "Train_preprocessed[0:5]"
   ]
  },
  {
   "cell_type": "code",
   "execution_count": 43,
   "id": "4a408dc0-351a-425f-a618-cd6a7b96ea18",
   "metadata": {},
   "outputs": [],
   "source": [
    "pickle.dump(Train_preprocessed, open(\"Train_preprocessed.p\", \"wb\"))"
   ]
  },
  {
   "cell_type": "code",
   "execution_count": 44,
   "id": "363378a3-34b3-4595-aaf9-5c4a46daa764",
   "metadata": {},
   "outputs": [],
   "source": [
    "pickle.dump(y_train_label, open(\"Train_label.p\", \"wb\"))"
   ]
  },
  {
   "cell_type": "code",
   "execution_count": 15,
   "id": "3ef8f52e-aa0a-474d-84b5-b5a406d3c98e",
   "metadata": {},
   "outputs": [
    {
     "data": {
      "text/plain": [
       "['panas',\n",
       " 'makan malam sop butut bakar to illa chicken the restaurant mmm nomnom ditambah pemandangan kota bandung memukau pelayanan oke mbak della outfit of the day skywalkny terima kasih mbak della the restoran makanan ketagihan',\n",
       " 'bodoh marah indosat gangguan mulu ah',\n",
       " 'aduh marah marah diperiksa relakan bicara sepe i orang bersalah',\n",
       " 'batagor lumayan enak sehabis belanja pasar dago harga relatif murah suka batagor kering bumbu kacang dibanyakin']"
      ]
     },
     "execution_count": 15,
     "metadata": {},
     "output_type": "execute_result"
    }
   ],
   "source": [
    "#Convert X_test_text into list form\n",
    "Test_preprocessed = X_test_text.tolist()\n",
    "Test_preprocessed[0:5]"
   ]
  },
  {
   "cell_type": "code",
   "execution_count": 46,
   "id": "0fa41840-f0d9-40dc-a22b-36453b372643",
   "metadata": {},
   "outputs": [],
   "source": [
    "pickle.dump(Train_preprocessed, open(\"Test_preprocessed.p\", \"wb\"))"
   ]
  },
  {
   "cell_type": "code",
   "execution_count": 47,
   "id": "9f10aeba-8a15-4805-b90c-49a1e22700d9",
   "metadata": {},
   "outputs": [],
   "source": [
    "pickle.dump(y_test_label, open(\"Test_label.p\", \"wb\"))"
   ]
  },
  {
   "cell_type": "markdown",
   "id": "3e84936c-ffe8-43a7-b180-e862090e6279",
   "metadata": {
    "jp-MarkdownHeadingCollapsed": true
   },
   "source": [
    "### Load Data From Pickle"
   ]
  },
  {
   "cell_type": "code",
   "execution_count": 2,
   "id": "648a97ca-7122-49a7-9def-6c671b4a51b8",
   "metadata": {},
   "outputs": [],
   "source": [
    "import pickle"
   ]
  },
  {
   "cell_type": "code",
   "execution_count": 3,
   "id": "c25c5839-52af-4bcf-9fbe-54f47a716299",
   "metadata": {},
   "outputs": [],
   "source": [
    "file = open(r\"E:\\BINAR\\Platinum-Challenge\\Neural_Netork_MLP\\Train_preprocessed.p\", \"rb\")\n",
    "Train_preprocessed = pickle.load(file)\n",
    "file.close()"
   ]
  },
  {
   "cell_type": "code",
   "execution_count": 40,
   "id": "13a881ee-5ec6-4369-a213-ef7ea8705470",
   "metadata": {},
   "outputs": [],
   "source": [
    "file = open(r\"E:\\BINAR\\Platinum-Challenge\\Neural_Netork_MLP\\Test_preprocessed.p\", \"rb\")\n",
    "Test_preprocessed = pickle.load(file)\n",
    "file.close()"
   ]
  },
  {
   "cell_type": "code",
   "execution_count": 5,
   "id": "bcc8fcfc-574a-4048-8787-e14d0614ac35",
   "metadata": {},
   "outputs": [],
   "source": [
    "file = open(r\"E:\\BINAR\\Platinum-Challenge\\Neural_Netork_MLP\\feature.p\", \"rb\")\n",
    "count_vect = pickle.load(file)\n",
    "file.close()"
   ]
  },
  {
   "cell_type": "code",
   "execution_count": 6,
   "id": "bf173cb0-8b25-4011-bfd0-d89dc82facd5",
   "metadata": {},
   "outputs": [],
   "source": [
    "file = open(r\"E:\\BINAR\\Platinum-Challenge\\Neural_Netork_MLP\\Train_label.p\", \"rb\")\n",
    "y_train_label = pickle.load(file)\n",
    "file.close()"
   ]
  },
  {
   "cell_type": "code",
   "execution_count": 45,
   "id": "08eb8ff2-d9c1-412e-bba4-28b1706d8b49",
   "metadata": {},
   "outputs": [],
   "source": [
    "file = open(r\"E:\\BINAR\\Platinum-Challenge\\Neural_Netork_MLP\\Test_label.p\", \"rb\")\n",
    "y_test_label = pickle.load(file)\n",
    "file.close()"
   ]
  },
  {
   "cell_type": "markdown",
   "id": "945b02cb-a65d-450a-9b21-69ab1694e35b",
   "metadata": {},
   "source": [
    "### TF-IDF Vectorizer"
   ]
  },
  {
   "cell_type": "code",
   "execution_count": 16,
   "id": "aad7b0da-940d-42d4-b4f6-976c9ea8b7ea",
   "metadata": {},
   "outputs": [],
   "source": [
    "from sklearn.feature_extraction.text import TfidfVectorizer\n",
    "import pickle"
   ]
  },
  {
   "cell_type": "code",
   "execution_count": 17,
   "id": "f9ed6a50-0e5e-4012-a427-78938429c7a0",
   "metadata": {},
   "outputs": [],
   "source": [
    "#Proses Feature Extraction\n",
    "count_vect = TfidfVectorizer()"
   ]
  },
  {
   "cell_type": "code",
   "execution_count": 50,
   "id": "e489d517-2d39-4c9d-8b9f-2d0a0bc0c343",
   "metadata": {},
   "outputs": [],
   "source": [
    "pickle.dump(count_vect, open(\"feature.p\", \"wb\"))"
   ]
  },
  {
   "cell_type": "code",
   "execution_count": 18,
   "id": "748368ec-1eb6-4424-8c8c-b60e6307302a",
   "metadata": {},
   "outputs": [
    {
     "name": "stdout",
     "output_type": "stream",
     "text": [
      "Feature Extraction For Train Data Has Successfully Completed\n",
      "Feature Extraction For Test Data Has Successfully Completed\n"
     ]
    }
   ],
   "source": [
    "#inisiasi value\n",
    "X_train = count_vect.fit_transform(Train_preprocessed)\n",
    "print(\"Feature Extraction For Train Data Has Successfully Completed\")\n",
    "\n",
    "X_test = count_vect.transform(Test_preprocessed)\n",
    "print(\"Feature Extraction For Test Data Has Successfully Completed\")"
   ]
  },
  {
   "cell_type": "code",
   "execution_count": 19,
   "id": "fe984d00-c957-49bc-81ef-7cd52ab5e09b",
   "metadata": {},
   "outputs": [],
   "source": [
    "y_train = y_train_label.reset_index(drop=True)"
   ]
  },
  {
   "cell_type": "code",
   "execution_count": 20,
   "id": "175728c0-8d4c-415a-ab23-467c33a7308d",
   "metadata": {},
   "outputs": [],
   "source": [
    "y_test = y_test_label.reset_index(drop=True)"
   ]
  },
  {
   "cell_type": "markdown",
   "id": "adcc584a-2d52-4b38-8484-bad55996bbc8",
   "metadata": {},
   "source": [
    "### Checking Vectorizer"
   ]
  },
  {
   "cell_type": "code",
   "execution_count": 21,
   "id": "6ad22b89-bd57-407e-bd91-c85c67700e30",
   "metadata": {},
   "outputs": [
    {
     "name": "stdout",
     "output_type": "stream",
     "text": [
      "  (0, 11493)\t0.17985362330576565\n",
      "  (0, 10927)\t0.1462586452876569\n",
      "  (0, 11030)\t0.1240366132168042\n",
      "  (0, 6985)\t0.26400254870451345\n",
      "  (0, 515)\t0.1733792382928014\n",
      "  (0, 6998)\t0.3506068940900241\n",
      "  (0, 3697)\t0.12341893330896729\n",
      "  (0, 7912)\t0.19325101745090564\n",
      "  (0, 4283)\t0.09951024643974629\n",
      "  (0, 5857)\t0.2066484115960457\n",
      "  (0, 883)\t0.20138543285064628\n",
      "  (0, 5854)\t0.2038851274342282\n",
      "  (0, 13007)\t0.4490329114773591\n",
      "  (0, 5829)\t0.31122627690381466\n",
      "  (0, 2475)\t0.15139242701183564\n",
      "  (0, 1053)\t0.20973750047272763\n",
      "  (0, 10969)\t0.16274512830947888\n",
      "  (0, 7061)\t0.22918968458780528\n",
      "  (0, 7920)\t0.08091770111661985\n",
      "  (0, 12595)\t0.1279342122068107\n",
      "  (0, 6505)\t0.15645924222292246\n",
      "  (0, 8682)\t0.09264809554142804\n",
      "  (0, 11817)\t0.09306651828856748\n",
      "  (0, 10519)\t0.10875990158723221\n",
      "  (1, 3867)\t0.15221922172690408\n",
      "  :\t:\n",
      "  (6, 10926)\t0.2163164654004624\n",
      "  (6, 10003)\t0.16282990031873681\n",
      "  (6, 7571)\t0.2557646788810702\n",
      "  (6, 5682)\t0.2656642441802108\n",
      "  (6, 11911)\t0.34064630189437656\n",
      "  (6, 11137)\t0.21397570830476775\n",
      "  (6, 8213)\t0.3369813477121208\n",
      "  (6, 6894)\t0.18940634474193965\n",
      "  (6, 10769)\t0.24052924512942697\n",
      "  (6, 6893)\t0.20650163043396363\n",
      "  (6, 4492)\t0.10937618371022287\n",
      "  (6, 3697)\t0.09268358725928812\n",
      "  (6, 8682)\t0.13915138653846887\n",
      "  (7, 10689)\t0.5625763529456399\n",
      "  (7, 638)\t0.5090615304889539\n",
      "  (7, 8935)\t0.38123596989266473\n",
      "  (7, 13104)\t0.5282265996167044\n",
      "  (8, 7019)\t0.331516701331968\n",
      "  (8, 11222)\t0.4345869222337931\n",
      "  (8, 763)\t0.20410504319951353\n",
      "  (8, 1794)\t0.5980707936773295\n",
      "  (8, 5106)\t0.4321814420202224\n",
      "  (8, 4842)\t0.3392676554364486\n",
      "  (9, 10020)\t0.7324212807790679\n",
      "  (9, 638)\t0.6808517220819448\n"
     ]
    }
   ],
   "source": [
    "print(X_train[:10])"
   ]
  },
  {
   "cell_type": "code",
   "execution_count": 22,
   "id": "4d150d38-db40-4511-9c89-86c143d60793",
   "metadata": {},
   "outputs": [
    {
     "name": "stdout",
     "output_type": "stream",
     "text": [
      "  (0, 8973)\t1.0\n",
      "  (1, 12758)\t0.17016245722484316\n",
      "  (1, 12648)\t0.40327891008897765\n",
      "  (1, 12460)\t0.13992649383522643\n",
      "  (1, 11641)\t0.1578389064408637\n",
      "  (1, 10523)\t0.0908758060993953\n",
      "  (1, 10518)\t0.18562195530950923\n",
      "  (1, 9240)\t0.10005633092980896\n",
      "  (1, 9207)\t0.09655058700705238\n",
      "  (1, 8744)\t0.1201551957459567\n",
      "  (1, 8725)\t0.19889813443112067\n",
      "  (1, 8251)\t0.23240069241016262\n",
      "  (1, 7432)\t0.24009415522334154\n",
      "  (1, 7130)\t0.3276128396243083\n",
      "  (1, 6925)\t0.09804738483148782\n",
      "  (1, 6894)\t0.0642946572594204\n",
      "  (1, 6893)\t0.07009771277911851\n",
      "  (1, 6252)\t0.10442488699729552\n",
      "  (1, 5942)\t0.15663225359667954\n",
      "  (1, 5459)\t0.13601546000291706\n",
      "  (1, 3331)\t0.13829282969138726\n",
      "  (1, 2546)\t0.41069503102880944\n",
      "  (1, 2488)\t0.25093748204133287\n",
      "  (1, 2092)\t0.14658728261608148\n",
      "  (1, 1851)\t0.25093748204133287\n",
      "  :\t:\n",
      "  (8, 7371)\t0.15312158729171554\n",
      "  (8, 7203)\t0.22030175907221847\n",
      "  (8, 6925)\t0.1215947259596914\n",
      "  (8, 6790)\t0.2747672179103282\n",
      "  (8, 6296)\t0.1732715182437719\n",
      "  (8, 5641)\t0.18495312355965837\n",
      "  (8, 4492)\t0.09208986753680659\n",
      "  (8, 3712)\t0.2613197266264852\n",
      "  (8, 3530)\t0.16069915937725585\n",
      "  (8, 3331)\t0.17150563227581536\n",
      "  (8, 1528)\t0.2018949589624825\n",
      "  (8, 700)\t0.31930347554169863\n",
      "  (8, 357)\t0.20314663936962452\n",
      "  (9, 12460)\t0.24312166135881264\n",
      "  (9, 11935)\t0.27353498444271374\n",
      "  (9, 11921)\t0.27496481202086254\n",
      "  (9, 9207)\t0.16775621595982354\n",
      "  (9, 8845)\t0.257102841874324\n",
      "  (9, 7019)\t0.2416807480762491\n",
      "  (9, 6557)\t0.3057425740697067\n",
      "  (9, 5459)\t0.23632625745152058\n",
      "  (9, 5066)\t0.2107314949553295\n",
      "  (9, 4842)\t0.49466262444406944\n",
      "  (9, 2478)\t0.33656302397624666\n",
      "  (9, 186)\t0.2934434413559595\n"
     ]
    }
   ],
   "source": [
    "print(X_test[:10])"
   ]
  },
  {
   "cell_type": "code",
   "execution_count": 23,
   "id": "46ad060a-8083-49f7-9c51-55be4f2c323b",
   "metadata": {},
   "outputs": [
    {
     "data": {
      "text/plain": [
       "0    positive\n",
       "1    positive\n",
       "2    negative\n",
       "3    positive\n",
       "4    negative\n",
       "5    negative\n",
       "6    positive\n",
       "7    negative\n",
       "8    negative\n",
       "9    negative\n",
       "Name: label, dtype: object"
      ]
     },
     "execution_count": 23,
     "metadata": {},
     "output_type": "execute_result"
    }
   ],
   "source": [
    "y_train[:10]"
   ]
  },
  {
   "cell_type": "code",
   "execution_count": 24,
   "id": "3a2dd4e7-abcf-4764-beb7-668f08b3bf0d",
   "metadata": {},
   "outputs": [
    {
     "data": {
      "text/plain": [
       "0    negative\n",
       "1    positive\n",
       "2    negative\n",
       "3    negative\n",
       "4    positive\n",
       "5    negative\n",
       "6    positive\n",
       "7    positive\n",
       "8    positive\n",
       "9    negative\n",
       "Name: label, dtype: object"
      ]
     },
     "execution_count": 24,
     "metadata": {},
     "output_type": "execute_result"
    }
   ],
   "source": [
    "y_test[:10]"
   ]
  },
  {
   "cell_type": "markdown",
   "id": "3d0aa25a-af24-40b9-b8a8-3c6cb3413124",
   "metadata": {},
   "source": [
    "## Model Neural Network (MLP Classifier)"
   ]
  },
  {
   "cell_type": "code",
   "execution_count": 25,
   "id": "fcab9a3c-fad6-43ac-81c6-631837ed9df6",
   "metadata": {},
   "outputs": [],
   "source": [
    "from sklearn.neural_network import MLPClassifier\n",
    "import matplotlib.pyplot as plt"
   ]
  },
  {
   "cell_type": "code",
   "execution_count": 26,
   "id": "6be1d732-4c68-42a4-ae0c-25b57939ce88",
   "metadata": {},
   "outputs": [
    {
     "name": "stdout",
     "output_type": "stream",
     "text": [
      "Training selesai\n"
     ]
    }
   ],
   "source": [
    "model_MLP = MLPClassifier( early_stopping=True, validation_fraction=0.25)\n",
    "model_MLP.fit(X_train, y_train)\n",
    "\n",
    "print('Training selesai')"
   ]
  },
  {
   "cell_type": "code",
   "execution_count": 27,
   "id": "f106caa6-e4bf-4f3c-96ac-073a6d97fd86",
   "metadata": {},
   "outputs": [
    {
     "data": {
      "image/png": "[encoded data removed]",
      "text/plain": [
       "<Figure size 640x480 with 1 Axes>"
      ]
     },
     "metadata": {},
     "output_type": "display_data"
    }
   ],
   "source": [
    "plt.plot(model_MLP.loss_curve_, label='loss curve')\n",
    "plt.plot(model_MLP.validation_scores_, label= 'validation score')\n",
    "plt.title(\"Loss Curve\", fontsize=14)\n",
    "plt.xlabel('Iterations')\n",
    "plt.ylabel('Cost')\n",
    "plt.legend()\n",
    "plt.show()"
   ]
  },
  {
   "cell_type": "code",
   "execution_count": 35,
   "id": "b2d1acf2-9078-4064-8a4b-5c61dd0e4a1f",
   "metadata": {},
   "outputs": [
    {
     "data": {
      "text/plain": [
       "array(['negative', 'neutral', 'positive'], dtype='<U8')"
      ]
     },
     "execution_count": 35,
     "metadata": {},
     "output_type": "execute_result"
    }
   ],
   "source": [
    "model_MLP.classes_"
   ]
  },
  {
   "cell_type": "code",
   "execution_count": 28,
   "id": "be8766da-4b5c-475b-b35c-6ff514b9237c",
   "metadata": {},
   "outputs": [
    {
     "data": {
      "text/plain": [
       "[0.9578365470527916,\n",
       " 0.6680468211458176,\n",
       " 0.48883448658104994,\n",
       " 0.36738194417219455,\n",
       " 0.281155609912365,\n",
       " 0.22087076391109972,\n",
       " 0.17771411419588254,\n",
       " 0.1467848648847697,\n",
       " 0.12344407933525639,\n",
       " 0.10526823380141903,\n",
       " 0.09150162551595657,\n",
       " 0.08021779192739806,\n",
       " 0.07129325390990285,\n",
       " 0.06361944316093886,\n",
       " 0.05769758459567459,\n",
       " 0.052489905691801036,\n",
       " 0.04797755084386389,\n",
       " 0.04440706541138211]"
      ]
     },
     "execution_count": 28,
     "metadata": {},
     "output_type": "execute_result"
    }
   ],
   "source": [
    "model_MLP.loss_curve_"
   ]
  },
  {
   "cell_type": "code",
   "execution_count": 29,
   "id": "1d3048ab-881f-48b6-9819-2250c0e9c753",
   "metadata": {},
   "outputs": [
    {
     "data": {
      "text/plain": [
       "[0.6492912665752172,\n",
       " 0.7805212620027435,\n",
       " 0.8125285779606767,\n",
       " 0.8299039780521262,\n",
       " 0.8449931412894376,\n",
       " 0.846822130772748,\n",
       " 0.848193872885231,\n",
       " 0.8472793781435757,\n",
       " 0.8431641518061271,\n",
       " 0.8417924096936442,\n",
       " 0.838591678097851,\n",
       " 0.8381344307270233,\n",
       " 0.8367626886145405,\n",
       " 0.8353909465020576,\n",
       " 0.8344764517604024,\n",
       " 0.8335619570187471,\n",
       " 0.8326474622770919,\n",
       " 0.8335619570187471]"
      ]
     },
     "execution_count": 29,
     "metadata": {},
     "output_type": "execute_result"
    }
   ],
   "source": [
    "model_MLP.validation_scores_"
   ]
  },
  {
   "cell_type": "code",
   "execution_count": 51,
   "id": "a8f3a10e-9233-4b39-bc4b-eca8a7ce2c41",
   "metadata": {},
   "outputs": [],
   "source": [
    "import pickle"
   ]
  },
  {
   "cell_type": "code",
   "execution_count": 110,
   "id": "2d7526d8-6c17-4e37-9b53-0f64d27d7697",
   "metadata": {},
   "outputs": [],
   "source": [
    "pickle.dump(model_MLP, open(\"model_MLP_2.p\", \"wb\"))"
   ]
  },
  {
   "cell_type": "markdown",
   "id": "ba35e1b8-f43b-4c49-a2be-2b31fd955c34",
   "metadata": {
    "jp-MarkdownHeadingCollapsed": true
   },
   "source": [
    "## Hyper Parameter Tuning"
   ]
  },
  {
   "cell_type": "code",
   "execution_count": 65,
   "id": "84479360-e60e-4a05-ad84-373747289932",
   "metadata": {},
   "outputs": [],
   "source": [
    "from sklearn.model_selection import GridSearchCV"
   ]
  },
  {
   "cell_type": "code",
   "execution_count": 66,
   "id": "3641ddd3-0049-4b9c-b33e-21b16a6ff05c",
   "metadata": {},
   "outputs": [],
   "source": [
    "param_grid = {\n",
    "    'hidden_layer_sizes': [(150,100,50), (120,80,40), (100,50,30)],\n",
    "    'max_iter': [50, 100, 200],\n",
    "    'activation': ['tanh', 'relu'],\n",
    "    'solver': ['sgd', 'adam'],\n",
    "    'alpha': [0.0001, 0.05],\n",
    "    'learning_rate': ['constant','adaptive'],\n",
    "    'early_stopping': [True],\n",
    "    'validation_fraction': [0.25]\n",
    "}"
   ]
  },
  {
   "cell_type": "code",
   "execution_count": null,
   "id": "75958293-ea79-47d8-919d-e9b80da5c1c3",
   "metadata": {},
   "outputs": [],
   "source": [
    "grid = GridSearchCV(model_MLP, param_grid, n_jobs= -1)\n",
    "grid.fit(X_train, y_train)\n",
    "\n",
    "print(grid.best_params_)"
   ]
  },
  {
   "cell_type": "code",
   "execution_count": null,
   "id": "b51bdef7-40ac-4606-a47d-485f8045787e",
   "metadata": {},
   "outputs": [],
   "source": [
    "grid_predictions = grid.predict(X_test) \n",
    "\n",
    "print('Accuracy: {:.2f}'.format(accuracy_score(y_test, grid_predictions)))"
   ]
  },
  {
   "cell_type": "markdown",
   "id": "4b6e011a-76d7-4781-b2d6-738412399cb3",
   "metadata": {},
   "source": [
    "## Cross-Validation"
   ]
  },
  {
   "cell_type": "code",
   "execution_count": 11,
   "id": "ae53b254-3e58-4668-a62b-ef5edbfb535a",
   "metadata": {},
   "outputs": [],
   "source": [
    "from sklearn.neural_network import MLPClassifier\n",
    "from sklearn.model_selection import KFold\n",
    "from sklearn.metrics import accuracy_score\n",
    "from sklearn.metrics import classification_report\n",
    "import numpy as np"
   ]
  },
  {
   "cell_type": "code",
   "execution_count": 12,
   "id": "6bd0b29b-4237-4813-80dd-06d173ed750c",
   "metadata": {},
   "outputs": [],
   "source": [
    "#Shuffle Data\n",
    "kf = KFold(n_splits=4, random_state=42, shuffle=True)"
   ]
  },
  {
   "cell_type": "code",
   "execution_count": 17,
   "id": "53f9c969-aef4-40ee-b0da-f8b2efd830aa",
   "metadata": {},
   "outputs": [
    {
     "name": "stdout",
     "output_type": "stream",
     "text": [
      "Training ke 1\n",
      "              precision    recall  f1-score   support\n",
      "\n",
      "    negative       0.76      0.81      0.78       673\n",
      "     neutral       0.82      0.50      0.62       230\n",
      "    positive       0.89      0.93      0.91      1284\n",
      "\n",
      "    accuracy                           0.84      2187\n",
      "   macro avg       0.83      0.75      0.77      2187\n",
      "weighted avg       0.84      0.84      0.84      2187\n",
      "\n",
      "--------------------------------------------------------------------------\n",
      "Training ke 2\n",
      "              precision    recall  f1-score   support\n",
      "\n",
      "    negative       0.75      0.77      0.76       673\n",
      "     neutral       0.79      0.55      0.65       234\n",
      "    positive       0.88      0.91      0.89      1280\n",
      "\n",
      "    accuracy                           0.83      2187\n",
      "   macro avg       0.80      0.74      0.77      2187\n",
      "weighted avg       0.83      0.83      0.83      2187\n",
      "\n",
      "--------------------------------------------------------------------------\n",
      "Training ke 3\n",
      "              precision    recall  f1-score   support\n",
      "\n",
      "    negative       0.76      0.79      0.78       687\n",
      "     neutral       0.88      0.56      0.68       234\n",
      "    positive       0.88      0.92      0.90      1265\n",
      "\n",
      "    accuracy                           0.84      2186\n",
      "   macro avg       0.84      0.76      0.79      2186\n",
      "weighted avg       0.84      0.84      0.84      2186\n",
      "\n",
      "--------------------------------------------------------------------------\n",
      "Training ke 4\n",
      "              precision    recall  f1-score   support\n",
      "\n",
      "    negative       0.76      0.79      0.77       704\n",
      "     neutral       0.74      0.56      0.64       223\n",
      "    positive       0.89      0.91      0.90      1259\n",
      "\n",
      "    accuracy                           0.83      2186\n",
      "   macro avg       0.80      0.75      0.77      2186\n",
      "weighted avg       0.83      0.83      0.83      2186\n",
      "\n",
      "--------------------------------------------------------------------------\n"
     ]
    }
   ],
   "source": [
    "accuracies = []\n",
    "\n",
    "X = X_train\n",
    "y = y_train\n",
    "\n",
    "for iteration, data in enumerate(kf.split(X), start=1):\n",
    "    # ------------------------------ TRAIN DATASET ----------------------------------\n",
    "    data_train = X[data[0]]\n",
    "    target_train = y[data[0]]\n",
    "    \n",
    "    #Save Train Dataset\n",
    "    # pickle.dump(clf, open(f\"X_train_{iteration}.p\", \"wb\"))\n",
    "    # pickle.dump(clf, open(f\"y_train_{iteration}.p\", \"wb\"))\n",
    "\n",
    "    # ------------------------------- TEST DATASET ----------------------------------\n",
    "    data_test = X[data[1]]\n",
    "    target_test = y[data[1]]\n",
    "\n",
    "    #Save Test Dataset\n",
    "    # pickle.dump(clf, open(f\"X_test_{iteration}.p\", \"wb\"))\n",
    "    # pickle.dump(clf, open(f\"y_test_{iteration}.p\", \"wb\"))\n",
    "\n",
    "    # ----------------------------------- MODEL -------------------------------------\n",
    "    clf = MLPClassifier(early_stopping=True)\n",
    "    clf.fit(data_train, target_train)\n",
    "\n",
    "    #save every model\n",
    "    # pickle.dump(clf, open(f\"model_MLP_{iteration}.p\", \"wb\"))\n",
    "\n",
    "    # ----------------------------- PREDICTION (TEST) -------------------------------\n",
    "    preds = clf.predict(data_test)\n",
    "    accuracy = accuracy_score(target_test, preds)\n",
    "\n",
    "    # ----------------------------- PRINT REPORT ------------------------------------\n",
    "    print(\"Training ke\", iteration)\n",
    "    print(classification_report(target_test, preds))\n",
    "    print(\"--------------------------------------------------------------------------\")\n",
    "\n",
    "    accuracies.append(accuracy)"
   ]
  },
  {
   "cell_type": "code",
   "execution_count": null,
   "id": "a3109cc8-3f50-4258-a4ce-5d213867e75f",
   "metadata": {},
   "outputs": [],
   "source": [
    "average_accuracy = np.mean(accuracies)\n",
    "print(\"Rata-rata Accuracy: \", average_accuracy)"
   ]
  },
  {
   "cell_type": "code",
   "execution_count": null,
   "id": "1e60f1c6-36dc-42c8-85a1-27ca2a6b5af9",
   "metadata": {},
   "outputs": [],
   "source": [
    "    # ----------------------------------- VISUALISAI --------------------------------\n",
    "    #Visualisasi persebaran Data\n",
    "    data_2 = np.array([np.nan] * len(Train_preprocessed))\n",
    "    ax.scatter(range(len(data_2)),\n",
    "               [iteration + 0.5] * len(data_2),\n",
    "               c = data_2,\n",
    "               marker = \"_\",\n",
    "               cmap = cmap_cv,\n",
    "               lw = 10,\n",
    "               vmin = -0.2,\n",
    "               vmax = 1.2)\n",
    "# Formatting\n",
    "yticklabels = ['1', '2', '3', '4', 'class']\n",
    "ax.set(yticks=np.arange(n_splits + 2) + 0.5,\n",
    "       yticklabels=yticklabels,\n",
    "       xlabel=\"Sample index\",\n",
    "       ylabel=\"CV iteration\",\n",
    "       ylim=[n_splits + 2.2, -0.2],\n",
    "       xlim=[0, 100],)\n",
    "ax.set_title(\"{}\".format(type(kf).__name__), fontsize=15)"
   ]
  },
  {
   "cell_type": "markdown",
   "id": "b47c3e3b-3e9b-4b50-b951-d003ac3d947f",
   "metadata": {},
   "source": [
    "## Evaluasi Akhir"
   ]
  },
  {
   "cell_type": "code",
   "execution_count": 31,
   "id": "52afb53e-2512-4ab2-89bc-9b0f707b6c5c",
   "metadata": {},
   "outputs": [],
   "source": [
    "from sklearn.metrics import classification_report"
   ]
  },
  {
   "cell_type": "code",
   "execution_count": 37,
   "id": "f46e860b-5494-4402-84da-a21bfae27374",
   "metadata": {},
   "outputs": [],
   "source": [
    "file = open(r\"E:\\BINAR\\Platinum-Challenge\\model_MLP.p\", \"rb\")\n",
    "model_MLP = pickle.load(file)\n",
    "file.close()"
   ]
  },
  {
   "cell_type": "code",
   "execution_count": 32,
   "id": "6a5d97fb-59a0-487e-8d6a-25b503e66f36",
   "metadata": {},
   "outputs": [
    {
     "name": "stdout",
     "output_type": "stream",
     "text": [
      "Testing selesai\n",
      "              precision    recall  f1-score   support\n",
      "\n",
      "    negative       0.77      0.79      0.78       659\n",
      "     neutral       0.72      0.54      0.62       212\n",
      "    positive       0.89      0.92      0.91      1316\n",
      "\n",
      "    accuracy                           0.84      2187\n",
      "   macro avg       0.80      0.75      0.77      2187\n",
      "weighted avg       0.84      0.84      0.84      2187\n",
      "\n"
     ]
    }
   ],
   "source": [
    "test = model_MLP.predict(X_test)\n",
    "\n",
    "print(\"Testing selesai\")\n",
    "\n",
    "print(classification_report(y_test, test))"
   ]
  },
  {
   "cell_type": "code",
   "execution_count": 33,
   "id": "0a3926c6-6c71-4323-b571-ddc41c15998a",
   "metadata": {},
   "outputs": [],
   "source": [
    "import matplotlib.pyplot as plt\n",
    "from sklearn.metrics import confusion_matrix, ConfusionMatrixDisplay"
   ]
  },
  {
   "cell_type": "code",
   "execution_count": 34,
   "id": "321817ec-ca64-408d-8dd7-8ab78afffbf0",
   "metadata": {},
   "outputs": [
    {
     "data": {
      "image/png": "[encoded data removed]",
      "text/plain": [
       "<Figure size 640x480 with 2 Axes>"
      ]
     },
     "metadata": {},
     "output_type": "display_data"
    }
   ],
   "source": [
    "#Matrix confusion\n",
    "cm = confusion_matrix(y_test, test, labels=model_MLP.classes_)\n",
    "disp = ConfusionMatrixDisplay(confusion_matrix=cm,\n",
    "                              display_labels=model_MLP.classes_)\n",
    "\n",
    "disp.plot()\n",
    "plt.show()"
   ]
  },
  {
   "cell_type": "code",
   "execution_count": null,
   "id": "e32f5f2c-582e-4c27-9980-bf73e999f20f",
   "metadata": {},
   "outputs": [],
   "source": [
    "Data_positive = 1260\n",
    "Data_negative = 693\n",
    "Data_neutral = 234"
   ]
  },
  {
   "cell_type": "markdown",
   "id": "aa0de47d-c609-48ed-b279-5bcc99d2e81e",
   "metadata": {},
   "source": [
    "# Implement Model to New Data Set"
   ]
  },
  {
   "cell_type": "markdown",
   "id": "bd3ff958-e61c-4c51-87d3-c0ead45dbe08",
   "metadata": {},
   "source": [
    "## Read the data (main)"
   ]
  },
  {
   "cell_type": "code",
   "execution_count": 10,
   "id": "4e57dc2b-287c-426c-9396-0a953a4aee11",
   "metadata": {},
   "outputs": [
    {
     "data": {
      "text/html": [
       "<div>\n",
       "<style scoped>\n",
       "    .dataframe tbody tr th:only-of-type {\n",
       "        vertical-align: middle;\n",
       "    }\n",
       "\n",
       "    .dataframe tbody tr th {\n",
       "        vertical-align: top;\n",
       "    }\n",
       "\n",
       "    .dataframe thead th {\n",
       "        text-align: right;\n",
       "    }\n",
       "</style>\n",
       "<table border=\"1\" class=\"dataframe\">\n",
       "  <thead>\n",
       "    <tr style=\"text-align: right;\">\n",
       "      <th></th>\n",
       "      <th>Tweet</th>\n",
       "      <th>HS</th>\n",
       "      <th>Abusive</th>\n",
       "      <th>HS_Individual</th>\n",
       "      <th>HS_Group</th>\n",
       "      <th>HS_Religion</th>\n",
       "      <th>HS_Race</th>\n",
       "      <th>HS_Physical</th>\n",
       "      <th>HS_Gender</th>\n",
       "      <th>HS_Other</th>\n",
       "      <th>HS_Weak</th>\n",
       "      <th>HS_Moderate</th>\n",
       "      <th>HS_Strong</th>\n",
       "    </tr>\n",
       "  </thead>\n",
       "  <tbody>\n",
       "    <tr>\n",
       "      <th>0</th>\n",
       "      <td>- disaat semua cowok berusaha melacak perhatia...</td>\n",
       "      <td>1</td>\n",
       "      <td>1</td>\n",
       "      <td>1</td>\n",
       "      <td>0</td>\n",
       "      <td>0</td>\n",
       "      <td>0</td>\n",
       "      <td>0</td>\n",
       "      <td>0</td>\n",
       "      <td>1</td>\n",
       "      <td>1</td>\n",
       "      <td>0</td>\n",
       "      <td>0</td>\n",
       "    </tr>\n",
       "    <tr>\n",
       "      <th>1</th>\n",
       "      <td>RT USER: USER siapa yang telat ngasih tau elu?...</td>\n",
       "      <td>0</td>\n",
       "      <td>1</td>\n",
       "      <td>0</td>\n",
       "      <td>0</td>\n",
       "      <td>0</td>\n",
       "      <td>0</td>\n",
       "      <td>0</td>\n",
       "      <td>0</td>\n",
       "      <td>0</td>\n",
       "      <td>0</td>\n",
       "      <td>0</td>\n",
       "      <td>0</td>\n",
       "    </tr>\n",
       "    <tr>\n",
       "      <th>2</th>\n",
       "      <td>41. Kadang aku berfikir, kenapa aku tetap perc...</td>\n",
       "      <td>0</td>\n",
       "      <td>0</td>\n",
       "      <td>0</td>\n",
       "      <td>0</td>\n",
       "      <td>0</td>\n",
       "      <td>0</td>\n",
       "      <td>0</td>\n",
       "      <td>0</td>\n",
       "      <td>0</td>\n",
       "      <td>0</td>\n",
       "      <td>0</td>\n",
       "      <td>0</td>\n",
       "    </tr>\n",
       "    <tr>\n",
       "      <th>3</th>\n",
       "      <td>USER USER AKU ITU AKU\\n\\nKU TAU MATAMU SIPIT T...</td>\n",
       "      <td>0</td>\n",
       "      <td>0</td>\n",
       "      <td>0</td>\n",
       "      <td>0</td>\n",
       "      <td>0</td>\n",
       "      <td>0</td>\n",
       "      <td>0</td>\n",
       "      <td>0</td>\n",
       "      <td>0</td>\n",
       "      <td>0</td>\n",
       "      <td>0</td>\n",
       "      <td>0</td>\n",
       "    </tr>\n",
       "    <tr>\n",
       "      <th>4</th>\n",
       "      <td>USER USER Kaum cebong kapir udah keliatan dong...</td>\n",
       "      <td>1</td>\n",
       "      <td>1</td>\n",
       "      <td>0</td>\n",
       "      <td>1</td>\n",
       "      <td>1</td>\n",
       "      <td>0</td>\n",
       "      <td>0</td>\n",
       "      <td>0</td>\n",
       "      <td>0</td>\n",
       "      <td>0</td>\n",
       "      <td>1</td>\n",
       "      <td>0</td>\n",
       "    </tr>\n",
       "  </tbody>\n",
       "</table>\n",
       "</div>"
      ],
      "text/plain": [
       "                                               Tweet  HS  Abusive  \\\n",
       "0  - disaat semua cowok berusaha melacak perhatia...   1        1   \n",
       "1  RT USER: USER siapa yang telat ngasih tau elu?...   0        1   \n",
       "2  41. Kadang aku berfikir, kenapa aku tetap perc...   0        0   \n",
       "3  USER USER AKU ITU AKU\\n\\nKU TAU MATAMU SIPIT T...   0        0   \n",
       "4  USER USER Kaum cebong kapir udah keliatan dong...   1        1   \n",
       "\n",
       "   HS_Individual  HS_Group  HS_Religion  HS_Race  HS_Physical  HS_Gender  \\\n",
       "0              1         0            0        0            0          0   \n",
       "1              0         0            0        0            0          0   \n",
       "2              0         0            0        0            0          0   \n",
       "3              0         0            0        0            0          0   \n",
       "4              0         1            1        0            0          0   \n",
       "\n",
       "   HS_Other  HS_Weak  HS_Moderate  HS_Strong  \n",
       "0         1        1            0          0  \n",
       "1         0        0            0          0  \n",
       "2         0        0            0          0  \n",
       "3         0        0            0          0  \n",
       "4         0        0            1          0  "
      ]
     },
     "execution_count": 10,
     "metadata": {},
     "output_type": "execute_result"
    }
   ],
   "source": [
    "df_tweet = pd.read_csv(r\"E:\\BINAR\\Binar-Gold-Challenge\\Dataset\\data.csv\", encoding='ISO-8859-1')\n",
    "df_tweet.head()"
   ]
  },
  {
   "cell_type": "code",
   "execution_count": 11,
   "id": "06a3e079-31f4-4bc7-b1ea-b869106c18ea",
   "metadata": {},
   "outputs": [
    {
     "name": "stdout",
     "output_type": "stream",
     "text": [
      "Dataset size: (13169, 13)\n",
      "Columns are: Index(['Tweet', 'HS', 'Abusive', 'HS_Individual', 'HS_Group', 'HS_Religion',\n",
      "       'HS_Race', 'HS_Physical', 'HS_Gender', 'HS_Other', 'HS_Weak',\n",
      "       'HS_Moderate', 'HS_Strong'],\n",
      "      dtype='object')\n"
     ]
    }
   ],
   "source": [
    "print(\"Dataset size:\", df_tweet.shape)\n",
    "print(\"Columns are:\", df_tweet.columns)"
   ]
  },
  {
   "cell_type": "code",
   "execution_count": 12,
   "id": "3f212ce8-2edc-4c25-beb5-aab29ff8281d",
   "metadata": {},
   "outputs": [
    {
     "name": "stdout",
     "output_type": "stream",
     "text": [
      "<class 'pandas.core.frame.DataFrame'>\n",
      "RangeIndex: 13169 entries, 0 to 13168\n",
      "Data columns (total 13 columns):\n",
      " #   Column         Non-Null Count  Dtype \n",
      "---  ------         --------------  ----- \n",
      " 0   Tweet          13169 non-null  object\n",
      " 1   HS             13169 non-null  int64 \n",
      " 2   Abusive        13169 non-null  int64 \n",
      " 3   HS_Individual  13169 non-null  int64 \n",
      " 4   HS_Group       13169 non-null  int64 \n",
      " 5   HS_Religion    13169 non-null  int64 \n",
      " 6   HS_Race        13169 non-null  int64 \n",
      " 7   HS_Physical    13169 non-null  int64 \n",
      " 8   HS_Gender      13169 non-null  int64 \n",
      " 9   HS_Other       13169 non-null  int64 \n",
      " 10  HS_Weak        13169 non-null  int64 \n",
      " 11  HS_Moderate    13169 non-null  int64 \n",
      " 12  HS_Strong      13169 non-null  int64 \n",
      "dtypes: int64(12), object(1)\n",
      "memory usage: 1.3+ MB\n"
     ]
    }
   ],
   "source": [
    "df_tweet.info()"
   ]
  },
  {
   "cell_type": "markdown",
   "id": "62aa8cc9-869e-4c41-ab4b-0482f4226d80",
   "metadata": {},
   "source": [
    "## Cek Duplicate"
   ]
  },
  {
   "cell_type": "code",
   "execution_count": 13,
   "id": "e344a988-55d6-418b-a16b-dd36b462f7d7",
   "metadata": {},
   "outputs": [
    {
     "data": {
      "text/plain": [
       "(13169, 13)"
      ]
     },
     "execution_count": 13,
     "metadata": {},
     "output_type": "execute_result"
    }
   ],
   "source": [
    "df_tweet.shape"
   ]
  },
  {
   "cell_type": "code",
   "execution_count": 14,
   "id": "a69c3972-f747-4e76-ad0e-301479c6d3df",
   "metadata": {},
   "outputs": [
    {
     "data": {
      "text/plain": [
       "146"
      ]
     },
     "execution_count": 14,
     "metadata": {},
     "output_type": "execute_result"
    }
   ],
   "source": [
    "df_tweet.duplicated(subset='Tweet').sum()"
   ]
  },
  {
   "cell_type": "code",
   "execution_count": 15,
   "id": "3e05a4ea-c4f7-4eee-abf4-56b3b9dd62ab",
   "metadata": {},
   "outputs": [
    {
     "data": {
      "text/plain": [
       "125"
      ]
     },
     "execution_count": 15,
     "metadata": {},
     "output_type": "execute_result"
    }
   ],
   "source": [
    "df_tweet.duplicated().sum()"
   ]
  },
  {
   "cell_type": "code",
   "execution_count": 16,
   "id": "5aef6d5a-2768-4b16-ba73-32804af90157",
   "metadata": {},
   "outputs": [],
   "source": [
    "df_tweet = df_tweet.drop_duplicates(subset='Tweet')"
   ]
  },
  {
   "cell_type": "code",
   "execution_count": 17,
   "id": "f59b4f80-5767-4394-9f4f-361e5350197a",
   "metadata": {},
   "outputs": [
    {
     "data": {
      "text/plain": [
       "0"
      ]
     },
     "execution_count": 17,
     "metadata": {},
     "output_type": "execute_result"
    }
   ],
   "source": [
    "df_tweet.duplicated(subset='Tweet').sum()"
   ]
  },
  {
   "cell_type": "code",
   "execution_count": 18,
   "id": "9b7f3020-16a3-4cb6-8976-ef94f1c79eb2",
   "metadata": {},
   "outputs": [
    {
     "data": {
      "text/plain": [
       "(13023, 13)"
      ]
     },
     "execution_count": 18,
     "metadata": {},
     "output_type": "execute_result"
    }
   ],
   "source": [
    "df_tweet.shape"
   ]
  },
  {
   "cell_type": "markdown",
   "id": "a138e3ee-7455-4bcb-ac20-799a2fa2d1e0",
   "metadata": {},
   "source": [
    "## Cleaning Data"
   ]
  }
 ],
 "metadata": {
  "kernelspec": {
   "display_name": "Python 3 (ipykernel)",
   "language": "python",
   "name": "python3"
  },
  "language_info": {
   "codemirror_mode": {
    "name": "ipython",
    "version": 3
   },
   "file_extension": ".py",
   "mimetype": "text/x-python",
   "name": "python",
   "nbconvert_exporter": "python",
   "pygments_lexer": "ipython3",
   "version": "3.11.7"
  }
 },
 "nbformat": 4,
 "nbformat_minor": 5
}
