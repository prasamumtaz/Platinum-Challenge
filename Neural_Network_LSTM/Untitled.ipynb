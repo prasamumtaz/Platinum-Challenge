{
 "cells": [
  {
   "cell_type": "code",
   "execution_count": 4,
   "id": "672a65cc-8caa-4931-8f4f-8f0a378e1b32",
   "metadata": {},
   "outputs": [],
   "source": [
    "import re\n",
    "import numpy as np\n",
    "import pandas as pd\n",
    "import matplotlib.pyplot as plt\n",
    "\n",
    "from sklearn.model_selection import train_test_split\n",
    "\n",
    "from tensorflow.keras.layers import TextVectorization\n",
    "\n",
    "from tensorflow.keras.models import Sequential\n",
    "from tensorflow.keras.layers import Embedding, LSTM, Dense, Dropout\n",
    "\n",
    "from tensorflow.keras.optimizers import Adam\n",
    "from tensorflow.keras.losses import CategoricalCrossentropy\n",
    "\n",
    "from tensorflow.keras.callbacks import EarlyStopping\n",
    "\n",
    "from sklearn.metrics import classification_report\n",
    "from sklearn.metrics import confusion_matrix, ConfusionMatrixDisplay"
   ]
  },
  {
   "cell_type": "code",
   "execution_count": 8,
   "id": "d1ac6bf7-28fc-4669-abec-914027467dfd",
   "metadata": {},
   "outputs": [],
   "source": [
    "df = pd.read_csv(r\"E:\\BINAR\\Deep Learning\\Exercise\\re_dataset_three_labels_clean.csv\")"
   ]
  },
  {
   "cell_type": "code",
   "execution_count": 9,
   "id": "040fe915-a135-4133-b5a0-772e0589b429",
   "metadata": {},
   "outputs": [
    {
     "data": {
      "text/html": [
       "<div>\n",
       "<style scoped>\n",
       "    .dataframe tbody tr th:only-of-type {\n",
       "        vertical-align: middle;\n",
       "    }\n",
       "\n",
       "    .dataframe tbody tr th {\n",
       "        vertical-align: top;\n",
       "    }\n",
       "\n",
       "    .dataframe thead th {\n",
       "        text-align: right;\n",
       "    }\n",
       "</style>\n",
       "<table border=\"1\" class=\"dataframe\">\n",
       "  <thead>\n",
       "    <tr style=\"text-align: right;\">\n",
       "      <th></th>\n",
       "      <th>Label</th>\n",
       "      <th>Tweet</th>\n",
       "      <th>Tweet_clean</th>\n",
       "    </tr>\n",
       "  </thead>\n",
       "  <tbody>\n",
       "    <tr>\n",
       "      <th>0</th>\n",
       "      <td>2</td>\n",
       "      <td>- Dia sendiri yang ngiklanin promo cashback di...</td>\n",
       "      <td>sendiri mengiklankan promo cashback aplikasiny...</td>\n",
       "    </tr>\n",
       "    <tr>\n",
       "      <th>1</th>\n",
       "      <td>3</td>\n",
       "      <td>- disaat semua cowok berusaha melacak perhatia...</td>\n",
       "      <td>di saat semua cowok berusaha melacak perhatian...</td>\n",
       "    </tr>\n",
       "    <tr>\n",
       "      <th>2</th>\n",
       "      <td>2</td>\n",
       "      <td>- kampret kan kalo typo-nya di email kantor ke...</td>\n",
       "      <td>kampret kan kalau salah ketik email kantor mer...</td>\n",
       "    </tr>\n",
       "    <tr>\n",
       "      <th>3</th>\n",
       "      <td>2</td>\n",
       "      <td>- Mending makan disini lebih murah, buang-buan...</td>\n",
       "      <td>mending makan di sini lebih murah buang buang ...</td>\n",
       "    </tr>\n",
       "    <tr>\n",
       "      <th>4</th>\n",
       "      <td>2</td>\n",
       "      <td>/biarin oppa masukim vibrator ke memek/ oppa k...</td>\n",
       "      <td>biarkan oppa masukan vibrator memek oppa kok m...</td>\n",
       "    </tr>\n",
       "  </tbody>\n",
       "</table>\n",
       "</div>"
      ],
      "text/plain": [
       "   Label                                              Tweet                                        Tweet_clean\n",
       "0      2  - Dia sendiri yang ngiklanin promo cashback di...  sendiri mengiklankan promo cashback aplikasiny...\n",
       "1      3  - disaat semua cowok berusaha melacak perhatia...  di saat semua cowok berusaha melacak perhatian...\n",
       "2      2  - kampret kan kalo typo-nya di email kantor ke...  kampret kan kalau salah ketik email kantor mer...\n",
       "3      2  - Mending makan disini lebih murah, buang-buan...  mending makan di sini lebih murah buang buang ...\n",
       "4      2  /biarin oppa masukim vibrator ke memek/ oppa k...  biarkan oppa masukan vibrator memek oppa kok m..."
      ]
     },
     "execution_count": 9,
     "metadata": {},
     "output_type": "execute_result"
    }
   ],
   "source": [
    "df.head()"
   ]
  },
  {
   "cell_type": "markdown",
   "id": "b6d88a96-babb-4454-a5d1-5f2afd06da75",
   "metadata": {},
   "source": [
    "# Split Data"
   ]
  },
  {
   "cell_type": "code",
   "execution_count": 10,
   "id": "16853f88-89a7-4216-ad13-7590ff8f308b",
   "metadata": {},
   "outputs": [],
   "source": [
    "X = df[['Tweet_clean']]\n",
    "y = df['Label']"
   ]
  },
  {
   "cell_type": "code",
   "execution_count": 16,
   "id": "163a6fa0-372c-444f-a956-d27359c85250",
   "metadata": {},
   "outputs": [],
   "source": [
    "X_train, X_ass, y_train, y_ass = train_test_split(X, y, train_size=0.6, random_state=42)\n",
    "X_valid, X_test, y_valid, y_test = train_test_split(X_ass, y_ass, test_size=0.5, random_state=42)"
   ]
  },
  {
   "cell_type": "markdown",
   "id": "e5f0b205-f556-4c5c-94bc-4f2c951a3fe1",
   "metadata": {},
   "source": [
    "# TextVect"
   ]
  },
  {
   "cell_type": "code",
   "execution_count": 17,
   "id": "2ce0bb80-6498-4797-99a3-1220eb8f9649",
   "metadata": {},
   "outputs": [],
   "source": [
    "max_tok = 10000\n",
    "layer_vectorizer = TextVectorization(max_tokens= max_tok,\n",
    "                                     split='whitespace')\n",
    "layer_vectorizer.adapt(X_train.Tweet_clean.tolist())"
   ]
  },
  {
   "cell_type": "code",
   "execution_count": 18,
   "id": "abb78500-df3d-4d0d-9a72-6aefbdcecdb6",
   "metadata": {},
   "outputs": [
    {
     "data": {
      "text/plain": [
       "array(['', '[UNK]', 'tidak', 'kamu', 'orang', 'kalau', 'aku', 'sama',\n",
       "       'jadi', 'apa'], dtype='<U23')"
      ]
     },
     "execution_count": 18,
     "metadata": {},
     "output_type": "execute_result"
    }
   ],
   "source": [
    "vocab = np.array(layer_vectorizer.get_vocabulary())\n",
    "vocab[:10]"
   ]
  },
  {
   "cell_type": "code",
   "execution_count": 19,
   "id": "a8d4eb47-0bc2-4492-b373-166eecd07241",
   "metadata": {},
   "outputs": [],
   "source": [
    "X_Train = np.array(X_train)\n",
    "X_Valid = np.array(X_valid)\n",
    "X_Test = np.array(X_test)"
   ]
  },
  {
   "cell_type": "code",
   "execution_count": 21,
   "id": "8e3e3030-79c1-4bd7-8954-72b1c22b839f",
   "metadata": {},
   "outputs": [],
   "source": [
    "y_Train = pd.get_dummies(y_train)\n",
    "y_Train = y_Train.values"
   ]
  },
  {
   "cell_type": "code",
   "execution_count": null,
   "id": "e004b137-6378-48b8-aab9-cb6097c33a97",
   "metadata": {},
   "outputs": [],
   "source": [
    "y_Train = pd.get_dummies(y_train)\n",
    "y_Train = y_Train.values"
   ]
  },
  {
   "cell_type": "code",
   "execution_count": null,
   "id": "990a3bfe-de50-401e-8091-3b0c19c0d892",
   "metadata": {},
   "outputs": [],
   "source": [
    "y_Train = pd.get_dummies(y_train)\n",
    "y_Train = y_Train.values"
   ]
  }
 ],
 "metadata": {
  "kernelspec": {
   "display_name": "Python 3 (ipykernel)",
   "language": "python",
   "name": "python3"
  },
  "language_info": {
   "codemirror_mode": {
    "name": "ipython",
    "version": 3
   },
   "file_extension": ".py",
   "mimetype": "text/x-python",
   "name": "python",
   "nbconvert_exporter": "python",
   "pygments_lexer": "ipython3",
   "version": "3.11.7"
  }
 },
 "nbformat": 4,
 "nbformat_minor": 5
}
