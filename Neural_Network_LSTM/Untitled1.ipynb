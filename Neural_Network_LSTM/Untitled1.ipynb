{
 "cells": [
  {
   "cell_type": "code",
   "execution_count": 3,
   "id": "6a03a004-fdb9-4fba-9076-81ac47492c01",
   "metadata": {},
   "outputs": [],
   "source": [
    "import pandas as pd\n",
    "import numpy as np\n",
    "import matplotlib.pyplot as plt\n",
    "\n",
    "from sklearn.model_selection import train_test_split"
   ]
  },
  {
   "cell_type": "code",
   "execution_count": 2,
   "id": "43057368-8768-4789-9c62-24a93062e1ce",
   "metadata": {},
   "outputs": [
    {
     "data": {
      "text/html": [
       "<div>\n",
       "<style scoped>\n",
       "    .dataframe tbody tr th:only-of-type {\n",
       "        vertical-align: middle;\n",
       "    }\n",
       "\n",
       "    .dataframe tbody tr th {\n",
       "        vertical-align: top;\n",
       "    }\n",
       "\n",
       "    .dataframe thead th {\n",
       "        text-align: right;\n",
       "    }\n",
       "</style>\n",
       "<table border=\"1\" class=\"dataframe\">\n",
       "  <thead>\n",
       "    <tr style=\"text-align: right;\">\n",
       "      <th></th>\n",
       "      <th>Label</th>\n",
       "      <th>Tweet</th>\n",
       "      <th>Tweet_clean</th>\n",
       "    </tr>\n",
       "  </thead>\n",
       "  <tbody>\n",
       "    <tr>\n",
       "      <th>0</th>\n",
       "      <td>2</td>\n",
       "      <td>- Dia sendiri yang ngiklanin promo cashback di...</td>\n",
       "      <td>sendiri mengiklankan promo cashback aplikasiny...</td>\n",
       "    </tr>\n",
       "    <tr>\n",
       "      <th>1</th>\n",
       "      <td>3</td>\n",
       "      <td>- disaat semua cowok berusaha melacak perhatia...</td>\n",
       "      <td>di saat semua cowok berusaha melacak perhatian...</td>\n",
       "    </tr>\n",
       "    <tr>\n",
       "      <th>2</th>\n",
       "      <td>2</td>\n",
       "      <td>- kampret kan kalo typo-nya di email kantor ke...</td>\n",
       "      <td>kampret kan kalau salah ketik email kantor mer...</td>\n",
       "    </tr>\n",
       "    <tr>\n",
       "      <th>3</th>\n",
       "      <td>2</td>\n",
       "      <td>- Mending makan disini lebih murah, buang-buan...</td>\n",
       "      <td>mending makan di sini lebih murah buang buang ...</td>\n",
       "    </tr>\n",
       "    <tr>\n",
       "      <th>4</th>\n",
       "      <td>2</td>\n",
       "      <td>/biarin oppa masukim vibrator ke memek/ oppa k...</td>\n",
       "      <td>biarkan oppa masukan vibrator memek oppa kok m...</td>\n",
       "    </tr>\n",
       "  </tbody>\n",
       "</table>\n",
       "</div>"
      ],
      "text/plain": [
       "   Label                                              Tweet  \\\n",
       "0      2  - Dia sendiri yang ngiklanin promo cashback di...   \n",
       "1      3  - disaat semua cowok berusaha melacak perhatia...   \n",
       "2      2  - kampret kan kalo typo-nya di email kantor ke...   \n",
       "3      2  - Mending makan disini lebih murah, buang-buan...   \n",
       "4      2  /biarin oppa masukim vibrator ke memek/ oppa k...   \n",
       "\n",
       "                                         Tweet_clean  \n",
       "0  sendiri mengiklankan promo cashback aplikasiny...  \n",
       "1  di saat semua cowok berusaha melacak perhatian...  \n",
       "2  kampret kan kalau salah ketik email kantor mer...  \n",
       "3  mending makan di sini lebih murah buang buang ...  \n",
       "4  biarkan oppa masukan vibrator memek oppa kok m...  "
      ]
     },
     "execution_count": 2,
     "metadata": {},
     "output_type": "execute_result"
    }
   ],
   "source": [
    "df = pd.read_csv(r\"E:\\BINAR\\Deep Learning\\Exercise\\re_dataset_three_labels_clean.csv\")\n",
    "df.head()"
   ]
  },
  {
   "cell_type": "code",
   "execution_count": 5,
   "id": "1c410225-3624-4ccc-b7e4-40bb34c819d6",
   "metadata": {},
   "outputs": [
    {
     "data": {
      "text/plain": [
       "(1941, 3)"
      ]
     },
     "execution_count": 5,
     "metadata": {},
     "output_type": "execute_result"
    }
   ],
   "source": [
    "df.shape"
   ]
  },
  {
   "cell_type": "code",
   "execution_count": 4,
   "id": "6b8d742a-66eb-421a-908a-fffbf56a3cdd",
   "metadata": {},
   "outputs": [],
   "source": [
    "text = df[['Tweet_clean']]\n",
    "label = df['Label']"
   ]
  },
  {
   "cell_type": "code",
   "execution_count": 7,
   "id": "aa6ca893-581c-48bd-8d7d-3301d9e73992",
   "metadata": {},
   "outputs": [],
   "source": [
    "X_train, X_ass, y_train, y_ass = train_test_split(text, label, train_size=0.8, random_state=42)\n",
    "X_valid, X_test, y_valid, y_test = train_test_split(X_ass, y_ass, test_size=0.5, random_state=42)"
   ]
  },
  {
   "cell_type": "code",
   "execution_count": 10,
   "id": "3fc2e08e-5d1a-40de-914f-1c3684e196b0",
   "metadata": {},
   "outputs": [],
   "source": [
    "from collections import Counter"
   ]
  },
  {
   "cell_type": "code",
   "execution_count": 12,
   "id": "ec4435cf-6fbf-4fa7-a954-d7c7aa7481fd",
   "metadata": {},
   "outputs": [
    {
     "data": {
      "text/plain": [
       "Counter({2: 841, 3: 471, 1: 240})"
      ]
     },
     "execution_count": 12,
     "metadata": {},
     "output_type": "execute_result"
    }
   ],
   "source": [
    "Counter(y_train) "
   ]
  },
  {
   "cell_type": "markdown",
   "id": "7543d648-315d-4f4c-b01a-19e419183a02",
   "metadata": {},
   "source": [
    "# Vectorizer"
   ]
  },
  {
   "cell_type": "code",
   "execution_count": 9,
   "id": "a660c222-d0b2-4b51-905d-acd91ac2f24f",
   "metadata": {},
   "outputs": [],
   "source": [
    "from tensorflow.keras.layers import TextVectorization"
   ]
  },
  {
   "cell_type": "code",
   "execution_count": null,
   "id": "3d731613-cddf-43ef-8bdb-6f9afba49e30",
   "metadata": {},
   "outputs": [],
   "source": [
    "max_token = 10000\n",
    "\n",
    "vectorizer_layer = TextVectorization(max_tokens=max_token,\n",
    "                                     split= 'whitesapce')\n",
    "ve"
   ]
  },
  {
   "cell_type": "code",
   "execution_count": null,
   "id": "68bce303-1f1b-4dc5-96c0-11935a7c7e98",
   "metadata": {},
   "outputs": [],
   "source": []
  },
  {
   "cell_type": "code",
   "execution_count": null,
   "id": "4c744fc8-9d86-469f-8829-20bd71546c14",
   "metadata": {},
   "outputs": [],
   "source": []
  }
 ],
 "metadata": {
  "kernelspec": {
   "display_name": "Python 3 (ipykernel)",
   "language": "python",
   "name": "python3"
  },
  "language_info": {
   "codemirror_mode": {
    "name": "ipython",
    "version": 3
   },
   "file_extension": ".py",
   "mimetype": "text/x-python",
   "name": "python",
   "nbconvert_exporter": "python",
   "pygments_lexer": "ipython3",
   "version": "3.11.7"
  }
 },
 "nbformat": 4,
 "nbformat_minor": 5
}
